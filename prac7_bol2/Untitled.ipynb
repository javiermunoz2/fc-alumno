{
 "cells": [
  {
   "cell_type": "code",
   "execution_count": null,
   "id": "03e2de6f",
   "metadata": {},
   "outputs": [],
   "source": [
    "import seaborn as sns\n",
    "import matplotlib.pyplot as plt\n",
    "\n",
    "# Definir datos de dibujo\n",
    "x = [1, 3, 5, 7, 9, 11, 13, 15, 17, 19]\n",
    "y_bar = [3, 8, 6, 8, 9, 10, 9, 11, 7, 8]\n",
    "y_line = [2, 9, 5, 7, 8, 9, 8, 10, 6, 7]\n",
    "\n",
    "sns.set(context='poster',\n",
    "        style='white',\n",
    "        palette='dark',\n",
    "        font='sans-serif', \n",
    "        font_scale=0.55, color_codes='r', rc=None)\n",
    "\n",
    "plt.bar(x, y_bar)\n",
    "plt.plot(x, y_line, '-o', color='y')\n",
    "plt.show()"
   ]
  },
  {
   "cell_type": "code",
   "execution_count": null,
   "id": "424683bd",
   "metadata": {},
   "outputs": [],
   "source": [
    "\n",
    "# Definir datos de dibujo\n",
    "x = [1, 3, 5, 2, 9, 11, 13, 15, 17, 9]\n",
    "y_bar = [3, 8, 6, 8, 9, 10, 9, 1, 7, 8]\n",
    "y_line = [2, 9, 5, 7, 8, 9, 8, 10, 6, 7]\n",
    "\n",
    "sns.set(context='poster',\n",
    "        style='white',\n",
    "        palette='dark',\n",
    "        font='sans-serif', \n",
    "        font_scale=0.55, color_codes='r', rc=None)\n",
    "\n",
    "plt.bar(x, y_bar)\n",
    "plt.plot(x, y_line, '-o', color='y')\n",
    "plt.show()"
   ]
  }
 ],
 "metadata": {
  "kernelspec": {
   "display_name": "Python 3 (ipykernel)",
   "language": "python",
   "name": "python3"
  },
  "language_info": {
   "codemirror_mode": {
    "name": "ipython",
    "version": 3
   },
   "file_extension": ".py",
   "mimetype": "text/x-python",
   "name": "python",
   "nbconvert_exporter": "python",
   "pygments_lexer": "ipython3",
   "version": "3.10.6"
  }
 },
 "nbformat": 4,
 "nbformat_minor": 5
}
